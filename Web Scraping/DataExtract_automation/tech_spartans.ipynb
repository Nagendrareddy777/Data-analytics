{
 "cells": [
  {
   "cell_type": "code",
   "execution_count": 3,
   "id": "efd85a57-2f01-46b1-ac50-0d52406a55c3",
   "metadata": {},
   "outputs": [],
   "source": [
    "import pandas as pd\n",
    "from tqdm import tqdm\n",
    "import time\n",
    "from selenium import webdriver\n",
    "import requests\n",
    "from bs4 import BeautifulSoup"
   ]
  },
  {
   "cell_type": "code",
   "execution_count": 15,
   "id": "b4ec708f-f841-4a8e-85da-febd5909934b",
   "metadata": {},
   "outputs": [],
   "source": [
    "driver=webdriver.Chrome()"
   ]
  },
  {
   "cell_type": "code",
   "execution_count": 16,
   "id": "0a9e9174-864d-4544-9a42-59eaacafb5b0",
   "metadata": {},
   "outputs": [],
   "source": [
    "driver.get(\"https://brandfolder.com/workbench/extract-text-from-image\")"
   ]
  },
  {
   "cell_type": "code",
   "execution_count": 7,
   "id": "25652013-566d-42e1-a925-e25c3b67737b",
   "metadata": {},
   "outputs": [],
   "source": [
    "image_urls = ['https://m.media-amazon.com/images/I/61I9XdN6OFL.jpg', 'https://m.media-amazon.com/images/I/71gSRbyXmoL.jpg', 'https://m.media-amazon.com/images/I/61BZ4zrjZXL.jpg']\n",
    "df = pd.DataFrame(columns=['Image URL', 'Extracted Text'])\n"
   ]
  },
  {
   "cell_type": "code",
   "execution_count": 8,
   "id": "885ac4e6-8e82-47d7-8b39-72b73f89abf1",
   "metadata": {},
   "outputs": [],
   "source": [
    "from selenium.webdriver.common.by import By\n",
    "from selenium.webdriver.common.keys import Keys"
   ]
  },
  {
   "cell_type": "code",
   "execution_count": 12,
   "id": "4bf609c1-02a8-45c5-8bd2-1d80137eec72",
   "metadata": {},
   "outputs": [
    {
     "ename": "NoSuchElementException",
     "evalue": "Message: no such element: Unable to locate element: {\"method\":\"xpath\",\"selector\":\"//*[@id=\"fsp-fileUpload\"]\"}\n  (Session info: chrome=128.0.6613.138); For documentation on this error, please visit: https://www.selenium.dev/documentation/webdriver/troubleshooting/errors#no-such-element-exception\nStacktrace:\n\tGetHandleVerifier [0x00007FF7D6779412+29090]\n\t(No symbol) [0x00007FF7D66EE239]\n\t(No symbol) [0x00007FF7D65AB1DA]\n\t(No symbol) [0x00007FF7D65FEFE7]\n\t(No symbol) [0x00007FF7D65FF23C]\n\t(No symbol) [0x00007FF7D66497C7]\n\t(No symbol) [0x00007FF7D662672F]\n\t(No symbol) [0x00007FF7D66465A2]\n\t(No symbol) [0x00007FF7D6626493]\n\t(No symbol) [0x00007FF7D65F09D1]\n\t(No symbol) [0x00007FF7D65F1B31]\n\tGetHandleVerifier [0x00007FF7D6A9871D+3302573]\n\tGetHandleVerifier [0x00007FF7D6AE4243+3612627]\n\tGetHandleVerifier [0x00007FF7D6ADA417+3572135]\n\tGetHandleVerifier [0x00007FF7D6835EB6+801862]\n\t(No symbol) [0x00007FF7D66F945F]\n\t(No symbol) [0x00007FF7D66F4FB4]\n\t(No symbol) [0x00007FF7D66F5140]\n\t(No symbol) [0x00007FF7D66E461F]\n\tBaseThreadInitThunk [0x00007FF8CFC57374+20]\n\tRtlUserThreadStart [0x00007FF8D05DCC91+33]\n",
     "output_type": "error",
     "traceback": [
      "\u001b[1;31m---------------------------------------------------------------------------\u001b[0m",
      "\u001b[1;31mNoSuchElementException\u001b[0m                    Traceback (most recent call last)",
      "Cell \u001b[1;32mIn[12], line 13\u001b[0m\n\u001b[0;32m     10\u001b[0m driver\u001b[38;5;241m.\u001b[39mget(\u001b[38;5;124m\"\u001b[39m\u001b[38;5;124mhttps://brandfolder.com/workbench/extract-text-from-image\u001b[39m\u001b[38;5;124m\"\u001b[39m)\n\u001b[0;32m     12\u001b[0m \u001b[38;5;66;03m# Upload the image\u001b[39;00m\n\u001b[1;32m---> 13\u001b[0m upload_button \u001b[38;5;241m=\u001b[39m \u001b[43mdriver\u001b[49m\u001b[38;5;241;43m.\u001b[39;49m\u001b[43mfind_element\u001b[49m\u001b[43m(\u001b[49m\u001b[43mBy\u001b[49m\u001b[38;5;241;43m.\u001b[39;49m\u001b[43mXPATH\u001b[49m\u001b[43m,\u001b[49m\u001b[43m \u001b[49m\u001b[38;5;124;43m'\u001b[39;49m\u001b[38;5;124;43m//*[@id=\u001b[39;49m\u001b[38;5;124;43m\"\u001b[39;49m\u001b[38;5;124;43mfsp-fileUpload\u001b[39;49m\u001b[38;5;124;43m\"\u001b[39;49m\u001b[38;5;124;43m]\u001b[39;49m\u001b[38;5;124;43m'\u001b[39;49m\u001b[43m)\u001b[49m  \u001b[38;5;66;03m# Find the upload button\u001b[39;00m\n\u001b[0;32m     14\u001b[0m upload_button\u001b[38;5;241m.\u001b[39msend_keys(os\u001b[38;5;241m.\u001b[39mpath\u001b[38;5;241m.\u001b[39mabspath(image_path))\n\u001b[0;32m     16\u001b[0m \u001b[38;5;66;03m# Wait for the text extraction process (you might need to adjust the sleep time)\u001b[39;00m\n",
      "File \u001b[1;32m~\\AppData\\Local\\Packages\\PythonSoftwareFoundation.Python.3.11_qbz5n2kfra8p0\\LocalCache\\local-packages\\Python311\\site-packages\\selenium\\webdriver\\remote\\webdriver.py:748\u001b[0m, in \u001b[0;36mWebDriver.find_element\u001b[1;34m(self, by, value)\u001b[0m\n\u001b[0;32m    745\u001b[0m     by \u001b[38;5;241m=\u001b[39m By\u001b[38;5;241m.\u001b[39mCSS_SELECTOR\n\u001b[0;32m    746\u001b[0m     value \u001b[38;5;241m=\u001b[39m \u001b[38;5;124mf\u001b[39m\u001b[38;5;124m'\u001b[39m\u001b[38;5;124m[name=\u001b[39m\u001b[38;5;124m\"\u001b[39m\u001b[38;5;132;01m{\u001b[39;00mvalue\u001b[38;5;132;01m}\u001b[39;00m\u001b[38;5;124m\"\u001b[39m\u001b[38;5;124m]\u001b[39m\u001b[38;5;124m'\u001b[39m\n\u001b[1;32m--> 748\u001b[0m \u001b[38;5;28;01mreturn\u001b[39;00m \u001b[38;5;28;43mself\u001b[39;49m\u001b[38;5;241;43m.\u001b[39;49m\u001b[43mexecute\u001b[49m\u001b[43m(\u001b[49m\u001b[43mCommand\u001b[49m\u001b[38;5;241;43m.\u001b[39;49m\u001b[43mFIND_ELEMENT\u001b[49m\u001b[43m,\u001b[49m\u001b[43m \u001b[49m\u001b[43m{\u001b[49m\u001b[38;5;124;43m\"\u001b[39;49m\u001b[38;5;124;43musing\u001b[39;49m\u001b[38;5;124;43m\"\u001b[39;49m\u001b[43m:\u001b[49m\u001b[43m \u001b[49m\u001b[43mby\u001b[49m\u001b[43m,\u001b[49m\u001b[43m \u001b[49m\u001b[38;5;124;43m\"\u001b[39;49m\u001b[38;5;124;43mvalue\u001b[39;49m\u001b[38;5;124;43m\"\u001b[39;49m\u001b[43m:\u001b[49m\u001b[43m \u001b[49m\u001b[43mvalue\u001b[49m\u001b[43m}\u001b[49m\u001b[43m)\u001b[49m[\u001b[38;5;124m\"\u001b[39m\u001b[38;5;124mvalue\u001b[39m\u001b[38;5;124m\"\u001b[39m]\n",
      "File \u001b[1;32m~\\AppData\\Local\\Packages\\PythonSoftwareFoundation.Python.3.11_qbz5n2kfra8p0\\LocalCache\\local-packages\\Python311\\site-packages\\selenium\\webdriver\\remote\\webdriver.py:354\u001b[0m, in \u001b[0;36mWebDriver.execute\u001b[1;34m(self, driver_command, params)\u001b[0m\n\u001b[0;32m    352\u001b[0m response \u001b[38;5;241m=\u001b[39m \u001b[38;5;28mself\u001b[39m\u001b[38;5;241m.\u001b[39mcommand_executor\u001b[38;5;241m.\u001b[39mexecute(driver_command, params)\n\u001b[0;32m    353\u001b[0m \u001b[38;5;28;01mif\u001b[39;00m response:\n\u001b[1;32m--> 354\u001b[0m     \u001b[38;5;28;43mself\u001b[39;49m\u001b[38;5;241;43m.\u001b[39;49m\u001b[43merror_handler\u001b[49m\u001b[38;5;241;43m.\u001b[39;49m\u001b[43mcheck_response\u001b[49m\u001b[43m(\u001b[49m\u001b[43mresponse\u001b[49m\u001b[43m)\u001b[49m\n\u001b[0;32m    355\u001b[0m     response[\u001b[38;5;124m\"\u001b[39m\u001b[38;5;124mvalue\u001b[39m\u001b[38;5;124m\"\u001b[39m] \u001b[38;5;241m=\u001b[39m \u001b[38;5;28mself\u001b[39m\u001b[38;5;241m.\u001b[39m_unwrap_value(response\u001b[38;5;241m.\u001b[39mget(\u001b[38;5;124m\"\u001b[39m\u001b[38;5;124mvalue\u001b[39m\u001b[38;5;124m\"\u001b[39m, \u001b[38;5;28;01mNone\u001b[39;00m))\n\u001b[0;32m    356\u001b[0m     \u001b[38;5;28;01mreturn\u001b[39;00m response\n",
      "File \u001b[1;32m~\\AppData\\Local\\Packages\\PythonSoftwareFoundation.Python.3.11_qbz5n2kfra8p0\\LocalCache\\local-packages\\Python311\\site-packages\\selenium\\webdriver\\remote\\errorhandler.py:229\u001b[0m, in \u001b[0;36mErrorHandler.check_response\u001b[1;34m(self, response)\u001b[0m\n\u001b[0;32m    227\u001b[0m         alert_text \u001b[38;5;241m=\u001b[39m value[\u001b[38;5;124m\"\u001b[39m\u001b[38;5;124malert\u001b[39m\u001b[38;5;124m\"\u001b[39m]\u001b[38;5;241m.\u001b[39mget(\u001b[38;5;124m\"\u001b[39m\u001b[38;5;124mtext\u001b[39m\u001b[38;5;124m\"\u001b[39m)\n\u001b[0;32m    228\u001b[0m     \u001b[38;5;28;01mraise\u001b[39;00m exception_class(message, screen, stacktrace, alert_text)  \u001b[38;5;66;03m# type: ignore[call-arg]  # mypy is not smart enough here\u001b[39;00m\n\u001b[1;32m--> 229\u001b[0m \u001b[38;5;28;01mraise\u001b[39;00m exception_class(message, screen, stacktrace)\n",
      "\u001b[1;31mNoSuchElementException\u001b[0m: Message: no such element: Unable to locate element: {\"method\":\"xpath\",\"selector\":\"//*[@id=\"fsp-fileUpload\"]\"}\n  (Session info: chrome=128.0.6613.138); For documentation on this error, please visit: https://www.selenium.dev/documentation/webdriver/troubleshooting/errors#no-such-element-exception\nStacktrace:\n\tGetHandleVerifier [0x00007FF7D6779412+29090]\n\t(No symbol) [0x00007FF7D66EE239]\n\t(No symbol) [0x00007FF7D65AB1DA]\n\t(No symbol) [0x00007FF7D65FEFE7]\n\t(No symbol) [0x00007FF7D65FF23C]\n\t(No symbol) [0x00007FF7D66497C7]\n\t(No symbol) [0x00007FF7D662672F]\n\t(No symbol) [0x00007FF7D66465A2]\n\t(No symbol) [0x00007FF7D6626493]\n\t(No symbol) [0x00007FF7D65F09D1]\n\t(No symbol) [0x00007FF7D65F1B31]\n\tGetHandleVerifier [0x00007FF7D6A9871D+3302573]\n\tGetHandleVerifier [0x00007FF7D6AE4243+3612627]\n\tGetHandleVerifier [0x00007FF7D6ADA417+3572135]\n\tGetHandleVerifier [0x00007FF7D6835EB6+801862]\n\t(No symbol) [0x00007FF7D66F945F]\n\t(No symbol) [0x00007FF7D66F4FB4]\n\t(No symbol) [0x00007FF7D66F5140]\n\t(No symbol) [0x00007FF7D66E461F]\n\tBaseThreadInitThunk [0x00007FF8CFC57374+20]\n\tRtlUserThreadStart [0x00007FF8D05DCC91+33]\n"
     ]
    }
   ],
   "source": [
    "\n",
    "\n",
    "# Loop through the image URLs\n",
    "for url in image_urls:\n",
    "    # Download the image\n",
    "    response = requests.get(url)\n",
    "    image_path = f\"temp_image.jpg\"  # Save as a temporary image file\n",
    "    with open(image_path, 'wb') as f:\n",
    "        f.write(response.content)\n",
    "    \n",
    "    # Open the website\n",
    "    driver.get(\"https://brandfolder.com/workbench/extract-text-from-image\")\n",
    "    \n",
    "    # Upload the image\n",
    "    upload_button = driver.find_element(By.XPATH, '//*[@id=\"fsp-fileUpload\"]')  # Find the upload button\n",
    "    upload_button.send_keys(os.path.abspath(image_path))\n",
    "    \n",
    "    # Wait for the text extraction process (you might need to adjust the sleep time)\n",
    "    time.sleep(10)  # Wait for the process to complete (can use WebDriverWait for better results)\n",
    "    \n",
    "    # Get the extracted text\n",
    "    extracted_text = driver.find_element(By.XPATH, '//*[@id=\"extracted_text\"]').text\n",
    "    \n",
    "    # Store the result in the dataframe\n",
    "    df = df.append({'Image URL': url, 'Extracted Text': extracted_text}, ignore_index=True)\n",
    "    \n",
    "    # Optionally, remove the temporary image file\n",
    "    os.remove(image_path)\n",
    "\n",
    "# Close the browser\n",
    "driver.quit()\n",
    "\n",
    "# Save the dataframe to a CSV or any other format\n",
    "df.to_csv(\"extracted_text.csv\", index=False)\n",
    "\n",
    "\n",
    "        "
   ]
  },
  {
   "cell_type": "code",
   "execution_count": null,
   "id": "23a65e2f-349b-42c4-a6d0-19925ef57de7",
   "metadata": {},
   "outputs": [],
   "source": []
  }
 ],
 "metadata": {
  "kernelspec": {
   "display_name": "Python 3 (ipykernel)",
   "language": "python",
   "name": "python3"
  },
  "language_info": {
   "codemirror_mode": {
    "name": "ipython",
    "version": 3
   },
   "file_extension": ".py",
   "mimetype": "text/x-python",
   "name": "python",
   "nbconvert_exporter": "python",
   "pygments_lexer": "ipython3",
   "version": "3.11.9"
  }
 },
 "nbformat": 4,
 "nbformat_minor": 5
}
