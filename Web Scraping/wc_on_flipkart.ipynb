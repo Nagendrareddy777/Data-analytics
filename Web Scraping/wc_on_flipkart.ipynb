{
 "cells": [
  {
   "cell_type": "markdown",
   "id": "8cd61179",
   "metadata": {},
   "source": [
    "# LIBRARIES\n"
   ]
  },
  {
   "cell_type": "code",
   "execution_count": null,
   "id": "95e453a5",
   "metadata": {},
   "outputs": [],
   "source": [
    "import requests \n",
    "from bs4 import BeautifulSoup\n",
    "import pandas as pd\n",
    "from tqdm import tqd"
   ]
  },
  {
   "cell_type": "markdown",
   "id": "88f754e1",
   "metadata": {},
   "source": [
    "# process for scraping data from flipcart"
   ]
  },
  {
   "cell_type": "code",
   "execution_count": 216,
   "id": "7a99de76",
   "metadata": {
    "scrolled": true
   },
   "outputs": [
    {
     "name": "stderr",
     "output_type": "stream",
     "text": [
      "100%|██████████| 9/9 [00:21<00:00,  2.38s/it]\n"
     ]
    }
   ],
   "source": [
    "watch_data=[]\n",
    "for i in tqdm(range(1,10)):\n",
    "    link=\"https://www.flipkart.com/all/~cs-21e789349087c946d1b57cb0a6372ff1/pr?sid=ajy%2Cbuh&marketplace=FLIPKART&restrictLocale=true&sort=popularity&page=\"+str(i)\n",
    "    data=requests.get(link)\n",
    "    soup=BeautifulSoup(data.text,\"html.parser\")\n",
    "    entire_data=soup.find_all(\"div\",class_=\"_13oc-S _1t9ceu\")\n",
    "    for i in entire_data:\n",
    "        con=i.find_all(\"div\",class_=\"_1xHGtK _373qXS\")\n",
    "\n",
    "        for j in con:\n",
    "            link=\"https://www.flipkart.com\"+j.find(\"a\",class_=\"IRpwTa\").get(\"href\")\n",
    "            title=j.find(\"a\",class_=\"IRpwTa\").text\n",
    "            image_link=j.find(\"img\",class_=\"_2r_T1I\").get(\"src\")\n",
    "            qualities=j.find(\"div\",class_=\"_3eWWd-\").text\n",
    "            offer=j.find(\"div\",class_=\"_3Ay6Sb\").text\n",
    "            offer_price=j.find(\"div\",class_=\"_30jeq3\").text\n",
    "            actual_price=j.find(\"div\",class_=\"_3I9_wc\").text\n",
    "            watch_data.append([title,qualities,offer,offer_price,actual_price,image_link,link])\n",
    "\n"
   ]
  },
  {
   "cell_type": "code",
   "execution_count": 217,
   "id": "a55c3eda",
   "metadata": {},
   "outputs": [
    {
     "data": {
      "text/plain": [
       "360"
      ]
     },
     "execution_count": 217,
     "metadata": {},
     "output_type": "execute_result"
    }
   ],
   "source": [
    "len(watch_data)"
   ]
  },
  {
   "cell_type": "markdown",
   "id": "0ca7f0ae",
   "metadata": {},
   "source": [
    "# converting the scraped data to dataframe"
   ]
  },
  {
   "cell_type": "code",
   "execution_count": 219,
   "id": "c96a29b1",
   "metadata": {},
   "outputs": [],
   "source": [
    "df=pd.DataFrame(watch_data,columns=[\"title\",\"qualities\",\"offer\",\"offer_price\",\"actual_price\",\"image_link\",\"link\"])"
   ]
  },
  {
   "cell_type": "code",
   "execution_count": 220,
   "id": "24bb099a",
   "metadata": {},
   "outputs": [
    {
     "data": {
      "text/html": [
       "<div>\n",
       "<style scoped>\n",
       "    .dataframe tbody tr th:only-of-type {\n",
       "        vertical-align: middle;\n",
       "    }\n",
       "\n",
       "    .dataframe tbody tr th {\n",
       "        vertical-align: top;\n",
       "    }\n",
       "\n",
       "    .dataframe thead th {\n",
       "        text-align: right;\n",
       "    }\n",
       "</style>\n",
       "<table border=\"1\" class=\"dataframe\">\n",
       "  <thead>\n",
       "    <tr style=\"text-align: right;\">\n",
       "      <th></th>\n",
       "      <th>title</th>\n",
       "      <th>qualities</th>\n",
       "      <th>offer</th>\n",
       "      <th>offer_price</th>\n",
       "      <th>actual_price</th>\n",
       "      <th>image_link</th>\n",
       "      <th>link</th>\n",
       "    </tr>\n",
       "  </thead>\n",
       "  <tbody>\n",
       "    <tr>\n",
       "      <th>0</th>\n",
       "      <td>Boult Crown 1.95'' Screen, BT Calling, Working...</td>\n",
       "      <td>Orange Strap, Free Size</td>\n",
       "      <td>71% off</td>\n",
       "      <td>₹1,299</td>\n",
       "      <td>₹4,499</td>\n",
       "      <td>https://rukminim2.flixcart.com/image/612/612/x...</td>\n",
       "      <td>https://www.flipkart.com/boult-crown-1-95-scre...</td>\n",
       "    </tr>\n",
       "    <tr>\n",
       "      <th>1</th>\n",
       "      <td>Fire-Boltt Ninja Calling Pro Plus 1.83 inch Di...</td>\n",
       "      <td>Silver Strap, Free Size</td>\n",
       "      <td>88% off</td>\n",
       "      <td>₹1,149</td>\n",
       "      <td>₹9,999</td>\n",
       "      <td>https://rukminim2.flixcart.com/image/612/612/x...</td>\n",
       "      <td>https://www.flipkart.com/fire-boltt-ninja-call...</td>\n",
       "    </tr>\n",
       "    <tr>\n",
       "      <th>2</th>\n",
       "      <td>Fire-Boltt Ninja Pro Max Plus 1.83 Smartwatch</td>\n",
       "      <td>Pink Gold Strap, Free Size</td>\n",
       "      <td>86% off</td>\n",
       "      <td>₹1,099</td>\n",
       "      <td>₹7,999</td>\n",
       "      <td>https://rukminim2.flixcart.com/image/612/612/x...</td>\n",
       "      <td>https://www.flipkart.com/fire-boltt-ninja-pro-...</td>\n",
       "    </tr>\n",
       "    <tr>\n",
       "      <th>3</th>\n",
       "      <td>Fire-Boltt Rise BT Calling,1.85\", Voice Assist...</td>\n",
       "      <td>Black Strap, Free Size</td>\n",
       "      <td>90% off</td>\n",
       "      <td>₹1,199</td>\n",
       "      <td>₹11,999</td>\n",
       "      <td>https://rukminim2.flixcart.com/image/612/612/x...</td>\n",
       "      <td>https://www.flipkart.com/fire-boltt-rise-bt-ca...</td>\n",
       "    </tr>\n",
       "    <tr>\n",
       "      <th>4</th>\n",
       "      <td>Noise Icon 3 1.91\" Display with Bluetooth Call...</td>\n",
       "      <td>Black Strap, Regular</td>\n",
       "      <td>85% off</td>\n",
       "      <td>₹1,199</td>\n",
       "      <td>₹7,999</td>\n",
       "      <td>https://rukminim2.flixcart.com/image/612/612/x...</td>\n",
       "      <td>https://www.flipkart.com/noise-icon-3-1-91-dis...</td>\n",
       "    </tr>\n",
       "    <tr>\n",
       "      <th>...</th>\n",
       "      <td>...</td>\n",
       "      <td>...</td>\n",
       "      <td>...</td>\n",
       "      <td>...</td>\n",
       "      <td>...</td>\n",
       "      <td>...</td>\n",
       "      <td>...</td>\n",
       "    </tr>\n",
       "    <tr>\n",
       "      <th>355</th>\n",
       "      <td>Fastrack Revoltt FS1 Pro|World's First,1.96\" S...</td>\n",
       "      <td>Beige Strap, Free Size</td>\n",
       "      <td>73% off</td>\n",
       "      <td>₹2,099</td>\n",
       "      <td>₹7,995</td>\n",
       "      <td>https://rukminim2.flixcart.com/image/612/612/x...</td>\n",
       "      <td>https://www.flipkart.com/fastrack-revoltt-fs1-...</td>\n",
       "    </tr>\n",
       "    <tr>\n",
       "      <th>356</th>\n",
       "      <td>alt Hunk, 1.96\", BT Calling, 200 Watchfaces,12...</td>\n",
       "      <td>Pink Strap, Free Size</td>\n",
       "      <td>92% off</td>\n",
       "      <td>₹999</td>\n",
       "      <td>₹12,999</td>\n",
       "      <td>https://rukminim2.flixcart.com/image/612/612/x...</td>\n",
       "      <td>https://www.flipkart.com/alt-hunk-1-96-bt-call...</td>\n",
       "    </tr>\n",
       "    <tr>\n",
       "      <th>357</th>\n",
       "      <td>GENTLEMOB Gen8/Gen9 smartwatch with Bluetooth ...</td>\n",
       "      <td>Gold Strap, Free</td>\n",
       "      <td>55% off</td>\n",
       "      <td>₹1,790</td>\n",
       "      <td>₹3,999</td>\n",
       "      <td>https://rukminim2.flixcart.com/image/612/612/x...</td>\n",
       "      <td>https://www.flipkart.com/gentlemob-gen8-gen9-s...</td>\n",
       "    </tr>\n",
       "    <tr>\n",
       "      <th>358</th>\n",
       "      <td>Fire-Boltt Blizzard 1.28\" Luxury watch with BT...</td>\n",
       "      <td>Gold Strap, Free Size</td>\n",
       "      <td>89% off</td>\n",
       "      <td>₹2,199</td>\n",
       "      <td>₹19,999</td>\n",
       "      <td>https://rukminim2.flixcart.com/image/612/612/x...</td>\n",
       "      <td>https://www.flipkart.com/fire-boltt-blizzard-1...</td>\n",
       "    </tr>\n",
       "    <tr>\n",
       "      <th>359</th>\n",
       "      <td>Fastrack Revoltt X|1.83'' HD Display|SingleSyn...</td>\n",
       "      <td>Black Strap, Free Size</td>\n",
       "      <td>54% off</td>\n",
       "      <td>₹1,799</td>\n",
       "      <td>₹3,995</td>\n",
       "      <td>https://rukminim2.flixcart.com/image/612/612/x...</td>\n",
       "      <td>https://www.flipkart.com/fastrack-revoltt-x-1-...</td>\n",
       "    </tr>\n",
       "  </tbody>\n",
       "</table>\n",
       "<p>360 rows × 7 columns</p>\n",
       "</div>"
      ],
      "text/plain": [
       "                                                 title  \\\n",
       "0    Boult Crown 1.95'' Screen, BT Calling, Working...   \n",
       "1    Fire-Boltt Ninja Calling Pro Plus 1.83 inch Di...   \n",
       "2        Fire-Boltt Ninja Pro Max Plus 1.83 Smartwatch   \n",
       "3    Fire-Boltt Rise BT Calling,1.85\", Voice Assist...   \n",
       "4    Noise Icon 3 1.91\" Display with Bluetooth Call...   \n",
       "..                                                 ...   \n",
       "355  Fastrack Revoltt FS1 Pro|World's First,1.96\" S...   \n",
       "356  alt Hunk, 1.96\", BT Calling, 200 Watchfaces,12...   \n",
       "357  GENTLEMOB Gen8/Gen9 smartwatch with Bluetooth ...   \n",
       "358  Fire-Boltt Blizzard 1.28\" Luxury watch with BT...   \n",
       "359  Fastrack Revoltt X|1.83'' HD Display|SingleSyn...   \n",
       "\n",
       "                      qualities    offer offer_price actual_price  \\\n",
       "0       Orange Strap, Free Size  71% off      ₹1,299       ₹4,499   \n",
       "1       Silver Strap, Free Size  88% off      ₹1,149       ₹9,999   \n",
       "2    Pink Gold Strap, Free Size  86% off      ₹1,099       ₹7,999   \n",
       "3        Black Strap, Free Size  90% off      ₹1,199      ₹11,999   \n",
       "4          Black Strap, Regular  85% off      ₹1,199       ₹7,999   \n",
       "..                          ...      ...         ...          ...   \n",
       "355      Beige Strap, Free Size  73% off      ₹2,099       ₹7,995   \n",
       "356       Pink Strap, Free Size  92% off        ₹999      ₹12,999   \n",
       "357            Gold Strap, Free  55% off      ₹1,790       ₹3,999   \n",
       "358       Gold Strap, Free Size  89% off      ₹2,199      ₹19,999   \n",
       "359      Black Strap, Free Size  54% off      ₹1,799       ₹3,995   \n",
       "\n",
       "                                            image_link  \\\n",
       "0    https://rukminim2.flixcart.com/image/612/612/x...   \n",
       "1    https://rukminim2.flixcart.com/image/612/612/x...   \n",
       "2    https://rukminim2.flixcart.com/image/612/612/x...   \n",
       "3    https://rukminim2.flixcart.com/image/612/612/x...   \n",
       "4    https://rukminim2.flixcart.com/image/612/612/x...   \n",
       "..                                                 ...   \n",
       "355  https://rukminim2.flixcart.com/image/612/612/x...   \n",
       "356  https://rukminim2.flixcart.com/image/612/612/x...   \n",
       "357  https://rukminim2.flixcart.com/image/612/612/x...   \n",
       "358  https://rukminim2.flixcart.com/image/612/612/x...   \n",
       "359  https://rukminim2.flixcart.com/image/612/612/x...   \n",
       "\n",
       "                                                  link  \n",
       "0    https://www.flipkart.com/boult-crown-1-95-scre...  \n",
       "1    https://www.flipkart.com/fire-boltt-ninja-call...  \n",
       "2    https://www.flipkart.com/fire-boltt-ninja-pro-...  \n",
       "3    https://www.flipkart.com/fire-boltt-rise-bt-ca...  \n",
       "4    https://www.flipkart.com/noise-icon-3-1-91-dis...  \n",
       "..                                                 ...  \n",
       "355  https://www.flipkart.com/fastrack-revoltt-fs1-...  \n",
       "356  https://www.flipkart.com/alt-hunk-1-96-bt-call...  \n",
       "357  https://www.flipkart.com/gentlemob-gen8-gen9-s...  \n",
       "358  https://www.flipkart.com/fire-boltt-blizzard-1...  \n",
       "359  https://www.flipkart.com/fastrack-revoltt-x-1-...  \n",
       "\n",
       "[360 rows x 7 columns]"
      ]
     },
     "execution_count": 220,
     "metadata": {},
     "output_type": "execute_result"
    }
   ],
   "source": [
    "df"
   ]
  },
  {
   "cell_type": "markdown",
   "id": "cfb35a55",
   "metadata": {},
   "source": [
    "# converting dataframe to csv file"
   ]
  },
  {
   "cell_type": "code",
   "execution_count": 223,
   "id": "54403080",
   "metadata": {},
   "outputs": [],
   "source": [
    "file=df.to_csv(\"Watch_data_flipkart.csv\")"
   ]
  },
  {
   "cell_type": "code",
   "execution_count": 224,
   "id": "5bb38952",
   "metadata": {},
   "outputs": [],
   "source": []
  },
  {
   "cell_type": "code",
   "execution_count": null,
   "id": "3e110bd2",
   "metadata": {},
   "outputs": [],
   "source": []
  }
 ],
 "metadata": {
  "kernelspec": {
   "display_name": "Python 3 (ipykernel)",
   "language": "python",
   "name": "python3"
  },
  "language_info": {
   "codemirror_mode": {
    "name": "ipython",
    "version": 3
   },
   "file_extension": ".py",
   "mimetype": "text/x-python",
   "name": "python",
   "nbconvert_exporter": "python",
   "pygments_lexer": "ipython3",
   "version": "3.11.5"
  }
 },
 "nbformat": 4,
 "nbformat_minor": 5
}
